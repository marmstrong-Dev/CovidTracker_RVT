{
 "cells": [
  {
   "cell_type": "markdown",
   "id": "c03e711c",
   "metadata": {},
   "source": [
    "<h1 style=\"color: green\">Covid Tracker</h1>\n",
    "<h2 style=\"color: green\">Recovery Data</h2>\n",
    "<hr style=\"border: 1px solid darkgreen\"/>"
   ]
  },
  {
   "cell_type": "code",
   "execution_count": null,
   "id": "fd752e9d",
   "metadata": {},
   "outputs": [],
   "source": [
    "import numpy as np\n",
    "import matplotlib.pyplot as plt\n",
    "import pandas as pd\n",
    "from pyspark.sql import SparkSession\n",
    "from pyspark.sql.functions import col\n",
    "\n",
    "spark = SparkSession.builder \\\n",
    "    .master(\"local\") \\\n",
    "    .appName(\"Recoveries Tracker\") \\\n",
    "    .getOrCreate()"
   ]
  },
  {
   "cell_type": "code",
   "execution_count": null,
   "id": "26473e65",
   "metadata": {},
   "outputs": [],
   "source": [
    "df_i = spark.read.format(\"csv\") \\\n",
    "    .option(\"header\", \"true\") \\\n",
    "    .option(\"inferSchema\", \"true\") \\\n",
    "    .load('hdfs://localhost:9000/user/narma/covid/data/time_series_covid19_confirmed_US.csv') \\\n",
    "    .select(col(\"UID\"), col(\"Admin2\"), col(\"Province_State\"), col(\"1/21/22\")) \\\n",
    "    .withColumnRenamed(\"UID\", \"id_i\") \\\n",
    "    .withColumnRenamed(\"Admin2\", \"City_i\") \\\n",
    "    .withColumnRenamed(\"Province_State\", \"State_i\") \\\n",
    "    .withColumnRenamed(\"1/21/22\", \"1_21_22_i\")\n",
    "\n",
    "df_d = spark.read.format(\"csv\") \\\n",
    "    .option(\"header\", \"true\") \\\n",
    "    .option(\"inferSchema\", \"true\") \\\n",
    "    .load(\"hdfs://localhost:9000/user/narma/covid/data/time_series_covid19_deaths_US.csv\") \\\n",
    "    .select(col(\"UID\"), col(\"Admin2\"), col(\"Province_State\"), col(\"1/21/22\")) \\\n",
    "    .withColumnRenamed(\"UID\", \"id_d\") \\\n",
    "    .withColumnRenamed(\"Admin2\", \"City_d\") \\\n",
    "    .withColumnRenamed(\"Province_State\", \"State_d\") \\\n",
    "    .withColumnRenamed(\"1/21/22\", \"1_21_22_d\")\n",
    "\n",
    "df = df_i.join(df_d, col(\"id_i\") == col(\"id_d\"), \"inner\").createOrReplaceTempView(\"RecoveryInfo\")\n",
    "\n"
   ]
  },
  {
   "cell_type": "code",
   "execution_count": null,
   "id": "85064769",
   "metadata": {},
   "outputs": [],
   "source": [
    "perc_df = spark.sql(\"\"\"\n",
    "    SELECT State_d, ROUND((1 - SUM(1_21_22_d) / SUM(1_21_22_i)) * 100, 2) AS PercentRecovered\n",
    "    FROM RecoveryInfo \n",
    "    WHERE State_d NOT LIKE('%Princess%')\n",
    "    GROUP BY State_d ORDER BY PercentRecovered DESC\"\"\").toPandas()\n",
    "\n",
    "x = perc_df[\"State_d\"]\n",
    "y = perc_df[\"PercentRecovered\"]\n",
    "\n",
    "plt.title(\"Percentage Recovered By State\\n\")\n",
    "plt.rcParams[\"figure.figsize\"] = (20,8)\n",
    "plt.ylim((98, 100))\n",
    "plt.xticks(rotation = -90)\n",
    "plt.xlabel(\"States\")\n",
    "plt.ylabel(\"Percents\")\n",
    "plt.bar(x, y, color = \"green\")\n",
    "\n"
   ]
  },
  {
   "cell_type": "code",
   "execution_count": null,
   "id": "f47dc0d4",
   "metadata": {},
   "outputs": [],
   "source": [
    "spark.catalog.dropTempView(\"RecoveryInfo\")\n",
    "spark.stop()"
   ]
  }
 ],
 "metadata": {
  "kernelspec": {
   "display_name": "Python 3",
   "language": "python",
   "name": "python3"
  },
  "language_info": {
   "codemirror_mode": {
    "name": "ipython",
    "version": 3
   },
   "file_extension": ".py",
   "mimetype": "text/x-python",
   "name": "python",
   "nbconvert_exporter": "python",
   "pygments_lexer": "ipython3",
   "version": "3.8.8"
  }
 },
 "nbformat": 4,
 "nbformat_minor": 5
}
