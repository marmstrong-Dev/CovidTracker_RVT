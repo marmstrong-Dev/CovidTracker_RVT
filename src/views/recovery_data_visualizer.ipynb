{
 "cells": [
  {
   "cell_type": "markdown",
   "id": "c03e711c",
   "metadata": {},
   "source": [
    "<h1 style=\"color: green\">Covid Tracker</h1>\n",
    "<h2 style=\"color: green\">Recovery Data</h2>\n",
    "<hr style=\"border: 1px solid darkgreen\"/>"
   ]
  },
  {
   "cell_type": "code",
   "execution_count": 1,
   "id": "fd752e9d",
   "metadata": {},
   "outputs": [],
   "source": [
    "import numpy as np\n",
    "import matplotlib.pyplot as plt\n",
    "import pandas as pd"
   ]
  },
  {
   "cell_type": "code",
   "execution_count": null,
   "id": "d924f584",
   "metadata": {},
   "outputs": [],
   "source": []
  }
 ],
 "metadata": {
  "kernelspec": {
   "display_name": "Python 3",
   "language": "python",
   "name": "python3"
  },
  "language_info": {
   "codemirror_mode": {
    "name": "ipython",
    "version": 3
   },
   "file_extension": ".py",
   "mimetype": "text/x-python",
   "name": "python",
   "nbconvert_exporter": "python",
   "pygments_lexer": "ipython3",
   "version": "3.8.8"
  }
 },
 "nbformat": 4,
 "nbformat_minor": 5
}
