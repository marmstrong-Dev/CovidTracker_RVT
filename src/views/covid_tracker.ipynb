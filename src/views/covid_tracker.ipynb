{
 "cells": [
  {
   "cell_type": "markdown",
   "id": "caa03f88",
   "metadata": {},
   "source": [
    "# Covid Tracker"
   ]
  },
  {
   "cell_type": "markdown",
   "id": "a33d5bbb",
   "metadata": {},
   "source": [
    "### Setup"
   ]
  },
  {
   "cell_type": "code",
   "execution_count": 5,
   "id": "37f8091a",
   "metadata": {},
   "outputs": [],
   "source": [
    "import numpy as np\n",
    "import matplotlib as mpl\n",
    "import pandas as pd"
   ]
  },
  {
   "cell_type": "code",
   "execution_count": 7,
   "id": "3e15b182",
   "metadata": {},
   "outputs": [
    {
     "name": "stdout",
     "output_type": "stream",
     "text": [
      "                salary_ID  gross_pay  annual_bonus  role_ID\n",
      "0   salary_ID_seq.NEXTVAL   85058.97       3999.99        1\n",
      "1   salary_ID_seq.NEXTVAL   76999.45       1000.00        3\n",
      "2   salary_ID_seq.NEXTVAL   74755.85       1000.00        4\n",
      "3   salary_ID_seq.NEXTVAL   95041.65       2500.00        5\n",
      "4   salary_ID_seq.NEXTVAL   65447.78       2000.00        6\n",
      "5   salary_ID_seq.NEXTVAL   62498.84       2000.00        7\n",
      "6   salary_ID_seq.NEXTVAL   54858.99       1200.00        8\n",
      "7   salary_ID_seq.NEXTVAL   37005.00       1000.00        9\n",
      "8   salary_ID_seq.NEXTVAL   72005.00       1500.00       10\n",
      "9   salary_ID_seq.NEXTVAL  115458.65       2500.00       11\n",
      "10  salary_ID_seq.NEXTVAL   78154.65       2000.00       12\n",
      "11  salary_ID_seq.NEXTVAL   54852.65       1200.50       13\n",
      "12  salary_ID_seq.NEXTVAL   40000.00       1050.75       14\n",
      "13  salary_ID_seq.NEXTVAL   70514.65       1500.00       15\n",
      "14  salary_ID_seq.NEXTVAL   40022.32       1200.54       16\n",
      "15  salary_ID_seq.NEXTVAL   37000.00       1500.00       17\n",
      "16  salary_ID_seq.NEXTVAL   45050.50       1000.00       18\n"
     ]
    }
   ],
   "source": [
    "df = pd.read_csv('..\\\\..\\\\datasets\\\\archived_data\\archived_daily_case_updates\\01-22-2020_1200.csv\"')\n",
    "print(df)"
   ]
  },
  {
   "cell_type": "code",
   "execution_count": null,
   "id": "ef913760",
   "metadata": {},
   "outputs": [],
   "source": []
  }
 ],
 "metadata": {
  "kernelspec": {
   "display_name": "Python 3",
   "language": "python",
   "name": "python3"
  },
  "language_info": {
   "codemirror_mode": {
    "name": "ipython",
    "version": 3
   },
   "file_extension": ".py",
   "mimetype": "text/x-python",
   "name": "python",
   "nbconvert_exporter": "python",
   "pygments_lexer": "ipython3",
   "version": "3.8.8"
  }
 },
 "nbformat": 4,
 "nbformat_minor": 5
}
