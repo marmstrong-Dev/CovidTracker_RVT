{
 "cells": [
  {
   "cell_type": "markdown",
   "id": "c87029ce",
   "metadata": {},
   "source": [
    "<h1 style=\"color: green\">Covid Tracker</h1>\n",
    "<h2 style=\"color: green\">Infections Data</h2>\n",
    "<hr style=\"border: 1px solid darkgreen\"/>"
   ]
  },
  {
   "cell_type": "markdown",
   "id": "a33d5bbb",
   "metadata": {},
   "source": [
    "<h3 style=\"color: green\">Setup Imports</h3>"
   ]
  },
  {
   "cell_type": "code",
   "execution_count": null,
   "id": "37f8091a",
   "metadata": {
    "tags": []
   },
   "outputs": [],
   "source": [
    "import numpy as np\n",
    "import matplotlib.pyplot as plt\n",
    "import pandas as pd\n",
    "\n",
    "df = pd.read_csv('../datasets/csse_covid_19_data/csse_covid_19_time_series/time_series_covid19_confirmed_US.csv')"
   ]
  },
  {
   "cell_type": "markdown",
   "id": "463c02f3-b811-428d-bb70-4e89ade5a0f4",
   "metadata": {},
   "source": [
    "<h3 style=\"color: green\">Infections Total In USA</h3>"
   ]
  },
  {
   "cell_type": "code",
   "execution_count": null,
   "id": "4968a6cd-c403-4803-b46f-a389ccf83037",
   "metadata": {},
   "outputs": [],
   "source": [
    "us_total_df = df.agg({'1/21/22': 'sum'})\n",
    "print(f\"Total US Infections: {us_total_df[0]}\")"
   ]
  },
  {
   "cell_type": "markdown",
   "id": "85eea624",
   "metadata": {},
   "source": [
    "<h3 style=\"color: green\">Highest Infection Rates By State</h3>"
   ]
  },
  {
   "cell_type": "code",
   "execution_count": null,
   "id": "3e15b182",
   "metadata": {
    "tags": []
   },
   "outputs": [],
   "source": [
    "filtered_df = df.where(df['Province_State'] != 'Diamond Princess')\n",
    "\n",
    "totals = filtered_df \\\n",
    "    .groupby('Province_State') \\\n",
    "    .agg({'1/21/22': 'sum'}) \\\n",
    "    .sort_values('1/21/22', ascending=False)\n",
    "\n",
    "plt.title('Infections By State\\n')\n",
    "plt.rcParams[\"figure.figsize\"] = (20,8)\n",
    "# plt.yticks(range(0, 9999999), 1000)\n",
    "totals['1/21/22'].plot(kind = 'bar', color = 'green')\n",
    "\n",
    "\"\"\"\n",
    "plt.bar(totals['Province_State'], totals['1/21/22'], color='green', xerr=variance)\n",
    "pltt.set_title('Infections By State')\n",
    "plt.show()\n",
    "\"\"\""
   ]
  },
  {
   "cell_type": "markdown",
   "id": "1f236c0a-ff35-46b2-a3a3-51d1d79b1141",
   "metadata": {},
   "source": [
    "<h3 style=\"color: green\">Input Cell</h3>"
   ]
  },
  {
   "cell_type": "code",
   "execution_count": null,
   "id": "1d7d3c48-c052-436a-8a4d-1dccf96dd3b1",
   "metadata": {},
   "outputs": [],
   "source": []
  }
 ],
 "metadata": {
  "kernelspec": {
   "display_name": "Python 3",
   "language": "python",
   "name": "python3"
  },
  "language_info": {
   "codemirror_mode": {
    "name": "ipython",
    "version": 3
   },
   "file_extension": ".py",
   "mimetype": "text/x-python",
   "name": "python",
   "nbconvert_exporter": "python",
   "pygments_lexer": "ipython3",
   "version": "3.8.8"
  }
 },
 "nbformat": 4,
 "nbformat_minor": 5
}
