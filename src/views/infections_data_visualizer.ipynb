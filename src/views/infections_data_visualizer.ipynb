{
 "cells": [
  {
   "cell_type": "markdown",
   "id": "c87029ce",
   "metadata": {},
   "source": [
    "<h1 style=\"color: green\">Covid Tracker</h1>\n",
    "<h2 style=\"color: green\">Infections Data</h2>\n",
    "<hr style=\"border: 1px solid darkgreen\"/>"
   ]
  },
  {
   "cell_type": "markdown",
   "id": "a33d5bbb",
   "metadata": {},
   "source": [
    "<h3 style=\"color: green\">Setup Imports</h3>"
   ]
  },
  {
   "cell_type": "code",
   "execution_count": null,
   "id": "37f8091a",
   "metadata": {
    "tags": []
   },
   "outputs": [],
   "source": [
    "import numpy as np\n",
    "import matplotlib.pyplot as plt\n",
    "import pandas as pd\n",
    "from pyspark.sql import SparkSession\n",
    "from pyspark.sql.functions import col\n",
    "\n",
    "spark = SparkSession.builder \\\n",
    "    .master(\"local\") \\\n",
    "    .appName(\"Infections Tracker\") \\\n",
    "    .getOrCreate()\n",
    "\n",
    "df = spark.read.format(\"csv\") \\\n",
    "    .option(\"header\", \"true\") \\\n",
    "    .option(\"inferSchema\", \"true\") \\\n",
    "    .load('../datasets/csse_covid_19_data/csse_covid_19_time_series/time_series_covid19_confirmed_US.csv') \\\n",
    "    .select(col(\"UID\"), col(\"Admin2\"), col(\"Province_State\"), col(\"1/21/22\")) \\\n",
    "    .withColumnRenamed(\"1/21/22\", \"1_21_22\")"
   ]
  },
  {
   "cell_type": "markdown",
   "id": "463c02f3-b811-428d-bb70-4e89ade5a0f4",
   "metadata": {},
   "source": [
    "<h3 style=\"color: green\">Infections Total In USA</h3>"
   ]
  },
  {
   "cell_type": "code",
   "execution_count": null,
   "id": "4968a6cd-c403-4803-b46f-a389ccf83037",
   "metadata": {},
   "outputs": [],
   "source": [
    "us_total_df = df.select(col(\"1_21_22\")).collect()\n",
    "\n",
    "total = 0\n",
    "for row in us_total_df:\n",
    "    total = total + row[0]\n",
    "\n",
    "print(\"US Total Infections:\")\n",
    "print(\"{:,}\".format(total))"
   ]
  },
  {
   "cell_type": "markdown",
   "id": "85eea624",
   "metadata": {},
   "source": [
    "<h3 style=\"color: green\">Highest Infection Rates By State</h3>"
   ]
  },
  {
   "cell_type": "code",
   "execution_count": null,
   "id": "93a3b9e2",
   "metadata": {},
   "outputs": [],
   "source": [
    "infections_df = df.select(col(\"Province_State\"), col(\"1_21_22\")) \\\n",
    "    .where(~ col(\"Province_State\").like(\"%Princess%\")) \\\n",
    "    .groupBy(col(\"Province_State\")).agg({\"1_21_22\": \"sum\"}) \\\n",
    "    .withColumnRenamed(\"sum(1_21_22)\", \"State_Infections\") \\\n",
    "    .orderBy(\"State_Infections\", ascending = False).toPandas()\n",
    "\n",
    "\n",
    "x = infections_df[\"Province_State\"]\n",
    "y = infections_df[\"State_Infections\"]\n",
    "\n",
    "fig = plt.figure(figsize = (20,7))\n",
    "plt.title('Infections By State\\n')\n",
    "plt.bar(x, y, color='green')\n",
    "\n",
    "plt.show()"
   ]
  },
  {
   "cell_type": "code",
   "execution_count": null,
   "id": "e8a347da",
   "metadata": {},
   "outputs": [],
   "source": [
    "percent_of_total_df = df.select(col(\"1_21_22\"), col(\"Province_State\")) \\\n",
    "    .groupBy(col(\"Province_State\")).agg({\"1_21_22\": \"sum\"}) \\\n",
    "    .withColumnRenamed(\"sum(1_21_22)\", \"State_Infections\") \\\n",
    "    .withColumn(\"Percent_Total\", col(\"State_Infections\") / total * 100) \\\n",
    "    .orderBy(\"State_Infections\", ascending = False).limit(10).toPandas()\n",
    "\n",
    "aggs = percent_of_total_df[\"State_Infections\"]\n",
    "labels_list = percent_of_total_df[\"Province_State\"]\n",
    "\n",
    "plt.title(\"Percentage of Infections By State\\n\", color=\"green\", fontsize=23)\n",
    "plt.pie(aggs, autopct = \"%1.1f%%\", wedgeprops = {\"edgecolor\": \"black\", \"width\": 0.6})\n",
    "plt.legend(labels_list, loc=\"center left\", title=\"States\", bbox_to_anchor=(1.0, 0, 0.5, 1.0))\n",
    "\n",
    "plt.show()"
   ]
  },
  {
   "cell_type": "markdown",
   "id": "1f236c0a-ff35-46b2-a3a3-51d1d79b1141",
   "metadata": {},
   "source": [
    "<h3 style=\"color: green\">Clean Up / Close</h3>"
   ]
  },
  {
   "cell_type": "code",
   "execution_count": null,
   "id": "1d7d3c48-c052-436a-8a4d-1dccf96dd3b1",
   "metadata": {},
   "outputs": [],
   "source": [
    "spark.catalog.dropTempView(\"RecoveryInfo\")\n",
    "spark.stop()"
   ]
  }
 ],
 "metadata": {
  "kernelspec": {
   "display_name": "Python 3",
   "language": "python",
   "name": "python3"
  },
  "language_info": {
   "codemirror_mode": {
    "name": "ipython",
    "version": 3
   },
   "file_extension": ".py",
   "mimetype": "text/x-python",
   "name": "python",
   "nbconvert_exporter": "python",
   "pygments_lexer": "ipython3",
   "version": "3.8.8"
  }
 },
 "nbformat": 4,
 "nbformat_minor": 5
}
