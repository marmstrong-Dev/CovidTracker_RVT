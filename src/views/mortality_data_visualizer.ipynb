{
 "cells": [
  {
   "cell_type": "markdown",
   "id": "817b9d75",
   "metadata": {},
   "source": [
    "<h1 style=\"color: green\">Covid Tracker</h1>\n",
    "<h2 style=\"color: green\">Mortality Data</h2>\n",
    "<hr style=\"border: 1px solid darkgreen\"/>"
   ]
  },
  {
   "cell_type": "code",
   "execution_count": 4,
   "id": "19507659",
   "metadata": {},
   "outputs": [],
   "source": [
    "import numpy as np\n",
    "import matplotlib.pyplot as plt\n",
    "import pandas as pd\n",
    "\n",
    "df = pd.read_csv('..//datasets//csse_covid_19_data//csse_covid_19_time_series//time_series_covid19_deaths_US.csv')"
   ]
  },
  {
   "cell_type": "markdown",
   "id": "6acfb270",
   "metadata": {},
   "source": [
    "<h3 style=\"color: darkgreen\">Deaths By State</h3>"
   ]
  },
  {
   "cell_type": "code",
   "execution_count": 20,
   "id": "48409d47",
   "metadata": {},
   "outputs": [
    {
     "name": "stdout",
     "output_type": "stream",
     "text": [
      "<class 'pandas.core.frame.DataFrame'>\n",
      "Index: 58 entries, California to American Samoa\n",
      "Data columns (total 1 columns):\n",
      " #   Column   Non-Null Count  Dtype\n",
      "---  ------   --------------  -----\n",
      " 0   1/21/22  58 non-null     int64\n",
      "dtypes: int64(1)\n",
      "memory usage: 928.0+ bytes\n"
     ]
    }
   ],
   "source": [
    "filtered_df = df[[\"Province_State\", \"1/21/22\"]]\n",
    "final = filtered_df.groupby(\"Province_State\").sum().sort_values(\"1/21/22\", ascending=False)\n",
    "final.info()"
   ]
  },
  {
   "cell_type": "code",
   "execution_count": null,
   "id": "ed9659d5",
   "metadata": {},
   "outputs": [],
   "source": []
  }
 ],
 "metadata": {
  "kernelspec": {
   "display_name": "Python 3",
   "language": "python",
   "name": "python3"
  },
  "language_info": {
   "codemirror_mode": {
    "name": "ipython",
    "version": 3
   },
   "file_extension": ".py",
   "mimetype": "text/x-python",
   "name": "python",
   "nbconvert_exporter": "python",
   "pygments_lexer": "ipython3",
   "version": "3.8.8"
  }
 },
 "nbformat": 4,
 "nbformat_minor": 5
}
