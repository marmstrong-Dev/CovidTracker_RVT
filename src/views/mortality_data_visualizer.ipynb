{
 "cells": [
  {
   "cell_type": "markdown",
   "id": "817b9d75",
   "metadata": {},
   "source": [
    "<h1 style=\"color: green\">Covid Tracker</h1>\n",
    "<h2 style=\"color: green\">Mortality Data</h2>\n",
    "<hr style=\"border: 1px solid darkgreen\"/>"
   ]
  },
  {
   "cell_type": "code",
   "execution_count": null,
   "id": "19507659",
   "metadata": {},
   "outputs": [],
   "source": [
    "import numpy as np\n",
    "import matplotlib.pyplot as plt\n",
    "import pandas as pd\n",
    "from pyspark.sql import SparkSession\n",
    "from pyspark.sql.functions import col\n",
    "\n",
    "spark = SparkSession.builder \\\n",
    "    .master(\"local\") \\\n",
    "    .appName(\"Mortality Tracker\") \\\n",
    "    .getOrCreate()\n",
    "\n",
    "df = spark.read.format(\"csv\") \\\n",
    "    .option(\"header\", \"true\") \\\n",
    "    .option(\"inferSchema\", \"true\") \\\n",
    "    .load('../datasets/csse_covid_19_data/csse_covid_19_time_series/time_series_covid19_deaths_US.csv') \\\n",
    "    .select(col(\"UID\"), col(\"Admin2\"), col(\"Province_State\"), col(\"1/21/22\")) \\\n",
    "    .withColumnRenamed(\"1/21/22\", \"1_21_22\")"
   ]
  },
  {
   "cell_type": "markdown",
   "id": "6acfb270",
   "metadata": {},
   "source": [
    "<h3 style=\"color: darkgreen\">Total Deaths</h3>"
   ]
  },
  {
   "cell_type": "code",
   "execution_count": null,
   "id": "48409d47",
   "metadata": {},
   "outputs": [],
   "source": [
    "us_total_df = df.select(col(\"1_21_22\")).collect()\n",
    "\n",
    "total = 0\n",
    "for row in us_total_df:\n",
    "    total = total + row[0]\n",
    "\n",
    "print(\"US Total Deaths:\")\n",
    "print(\"{:,}\".format(total))"
   ]
  },
  {
   "cell_type": "markdown",
   "id": "ed9659d5",
   "metadata": {},
   "source": [
    "<h3 style=\"color: darkgreen\">Deaths By State</h3>"
   ]
  },
  {
   "cell_type": "code",
   "execution_count": null,
   "id": "6730e4d2",
   "metadata": {},
   "outputs": [],
   "source": [
    "deaths_df = df.select(col(\"Province_State\"), col(\"1_21_22\")) \\\n",
    "    .where(~ col(\"Province_State\").like(\"%Princess%\")) \\\n",
    "    .groupBy(col(\"Province_State\")).agg({\"1_21_22\": \"sum\"}) \\\n",
    "    .withColumnRenamed(\"sum(1_21_22)\", \"State_Deaths\") \\\n",
    "    .orderBy(\"sum(1_21_22)\", ascending = True).toPandas()\n",
    "\n",
    "x = deaths_df[\"Province_State\"]\n",
    "y = deaths_df[\"State_Deaths\"]\n",
    "\n",
    "fig = plt.figure(figsize = (17,14))\n",
    "plt.title(\"Deaths By State\\n\")\n",
    "plt.xlabel(\"Deaths\")\n",
    "plt.ylabel(\"States\")\n",
    "plt.barh(x, y, color=\"green\")\n",
    "\n",
    "plt.show()"
   ]
  },
  {
   "cell_type": "markdown",
   "id": "4a5154a8",
   "metadata": {},
   "source": [
    "<h3 style=\"color: darkgreen\">Top 10 Mortality Rates By State</h3>"
   ]
  },
  {
   "cell_type": "code",
   "execution_count": null,
   "id": "50ef1096",
   "metadata": {},
   "outputs": [],
   "source": [
    "percent_of_total_df = df.select(col(\"1_21_22\"), col(\"Province_State\")) \\\n",
    "    .groupBy(col(\"Province_State\")).agg({\"1_21_22\": \"sum\"}) \\\n",
    "    .withColumnRenamed(\"sum(1_21_22)\", \"State_Deaths\") \\\n",
    "    .orderBy(\"State_Deaths\", ascending = False).limit(10).toPandas()\n",
    "\n",
    "aggs = percent_of_total_df[\"State_Deaths\"]\n",
    "labels_list = percent_of_total_df[\"Province_State\"]\n",
    "\n",
    "fig = plt.figure(figsize = (11,11))\n",
    "plt.title(\"Top Deaths By State\\n\", color=\"green\", fontsize=20)\n",
    "plt.pie(aggs, labels = aggs, textprops = {\"color\": \"green\"}, wedgeprops = {\"edgecolor\": \"white\"})\n",
    "plt.legend(labels_list, loc=\"center left\", title=\"States\", bbox_to_anchor=(1.0, 0, 0.5, 1.0))\n",
    "\n",
    "plt.show()"
   ]
  }
 ],
 "metadata": {
  "kernelspec": {
   "display_name": "Python 3",
   "language": "python",
   "name": "python3"
  },
  "language_info": {
   "codemirror_mode": {
    "name": "ipython",
    "version": 3
   },
   "file_extension": ".py",
   "mimetype": "text/x-python",
   "name": "python",
   "nbconvert_exporter": "python",
   "pygments_lexer": "ipython3",
   "version": "3.8.8"
  }
 },
 "nbformat": 4,
 "nbformat_minor": 5
}
